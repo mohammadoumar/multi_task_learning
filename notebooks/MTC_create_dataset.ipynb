{
 "cells": [
  {
   "cell_type": "code",
   "execution_count": 1,
   "id": "ab3babb2",
   "metadata": {
    "scrolled": true
   },
   "outputs": [
    {
     "name": "stdout",
     "output_type": "stream",
     "text": [
      "Looking in indexes: https://pypi.org/simple, https://pypi.ngc.nvidia.com\n",
      "Collecting pandas==1.3.4\n",
      "  Downloading pandas-1.3.4-cp38-cp38-manylinux_2_17_x86_64.manylinux2014_x86_64.whl (11.5 MB)\n",
      "\u001b[K     |████████████████████████████████| 11.5 MB 13.1 MB/s eta 0:00:01\n",
      "\u001b[?25hRequirement already satisfied: pytz>=2017.3 in /opt/conda/lib/python3.8/site-packages (from pandas==1.3.4) (2021.3)\n",
      "Requirement already satisfied: python-dateutil>=2.7.3 in /opt/conda/lib/python3.8/site-packages (from pandas==1.3.4) (2.8.2)\n",
      "Requirement already satisfied: numpy>=1.17.3 in /opt/conda/lib/python3.8/site-packages (from pandas==1.3.4) (1.21.2)\n",
      "Requirement already satisfied: six>=1.5 in /opt/conda/lib/python3.8/site-packages (from python-dateutil>=2.7.3->pandas==1.3.4) (1.16.0)\n",
      "Installing collected packages: pandas\n",
      "Successfully installed pandas-1.3.4\n",
      "\u001b[33mWARNING: Running pip as the 'root' user can result in broken permissions and conflicting behaviour with the system package manager. It is recommended to use a virtual environment instead: https://pip.pypa.io/warnings/venv\u001b[0m\n",
      "Looking in indexes: https://pypi.org/simple, https://pypi.ngc.nvidia.com\n",
      "Collecting transformers==4.12.5\n",
      "  Downloading transformers-4.12.5-py3-none-any.whl (3.1 MB)\n",
      "\u001b[K     |████████████████████████████████| 3.1 MB 21.0 MB/s eta 0:00:01\n",
      "\u001b[?25hRequirement already satisfied: numpy>=1.17 in /opt/conda/lib/python3.8/site-packages (from transformers==4.12.5) (1.21.2)\n",
      "Requirement already satisfied: pyyaml>=5.1 in /opt/conda/lib/python3.8/site-packages (from transformers==4.12.5) (5.4.1)\n",
      "Requirement already satisfied: regex!=2019.12.17 in /opt/conda/lib/python3.8/site-packages (from transformers==4.12.5) (2021.10.8)\n",
      "Collecting huggingface-hub<1.0,>=0.1.0\n",
      "  Downloading huggingface_hub-0.8.1-py3-none-any.whl (101 kB)\n",
      "\u001b[K     |████████████████████████████████| 101 kB 1.1 MB/s ta 0:00:01\n",
      "\u001b[?25hRequirement already satisfied: packaging>=20.0 in /opt/conda/lib/python3.8/site-packages (from transformers==4.12.5) (21.0)\n",
      "Requirement already satisfied: requests in /opt/conda/lib/python3.8/site-packages (from transformers==4.12.5) (2.26.0)\n",
      "Requirement already satisfied: tqdm>=4.27 in /opt/conda/lib/python3.8/site-packages (from transformers==4.12.5) (4.62.3)\n",
      "Requirement already satisfied: sacremoses in /opt/conda/lib/python3.8/site-packages (from transformers==4.12.5) (0.0.46)\n",
      "Collecting tokenizers<0.11,>=0.10.1\n",
      "  Downloading tokenizers-0.10.3-cp38-cp38-manylinux_2_5_x86_64.manylinux1_x86_64.manylinux_2_12_x86_64.manylinux2010_x86_64.whl (3.3 MB)\n",
      "\u001b[K     |████████████████████████████████| 3.3 MB 29.3 MB/s eta 0:00:01\n",
      "\u001b[?25hRequirement already satisfied: filelock in /opt/conda/lib/python3.8/site-packages (from transformers==4.12.5) (3.3.0)\n",
      "Requirement already satisfied: typing-extensions>=3.7.4.3 in /opt/conda/lib/python3.8/site-packages (from huggingface-hub<1.0,>=0.1.0->transformers==4.12.5) (3.10.0.2)\n",
      "Requirement already satisfied: pyparsing>=2.0.2 in /opt/conda/lib/python3.8/site-packages (from packaging>=20.0->transformers==4.12.5) (2.4.7)\n",
      "Requirement already satisfied: urllib3<1.27,>=1.21.1 in /opt/conda/lib/python3.8/site-packages (from requests->transformers==4.12.5) (1.26.7)\n",
      "Requirement already satisfied: charset-normalizer~=2.0.0 in /opt/conda/lib/python3.8/site-packages (from requests->transformers==4.12.5) (2.0.0)\n",
      "Requirement already satisfied: idna<4,>=2.5 in /opt/conda/lib/python3.8/site-packages (from requests->transformers==4.12.5) (3.1)\n",
      "Requirement already satisfied: certifi>=2017.4.17 in /opt/conda/lib/python3.8/site-packages (from requests->transformers==4.12.5) (2021.5.30)\n",
      "Requirement already satisfied: six in /opt/conda/lib/python3.8/site-packages (from sacremoses->transformers==4.12.5) (1.16.0)\n",
      "Requirement already satisfied: click in /opt/conda/lib/python3.8/site-packages (from sacremoses->transformers==4.12.5) (8.0.1)\n",
      "Requirement already satisfied: joblib in /opt/conda/lib/python3.8/site-packages (from sacremoses->transformers==4.12.5) (1.1.0)\n",
      "Installing collected packages: tokenizers, huggingface-hub, transformers\n",
      "Successfully installed huggingface-hub-0.8.1 tokenizers-0.10.3 transformers-4.12.5\n",
      "\u001b[33mWARNING: Running pip as the 'root' user can result in broken permissions and conflicting behaviour with the system package manager. It is recommended to use a virtual environment instead: https://pip.pypa.io/warnings/venv\u001b[0m\n",
      "Looking in indexes: https://pypi.org/simple, https://pypi.ngc.nvidia.com\n",
      "Collecting datasets==1.15.1\n",
      "  Downloading datasets-1.15.1-py3-none-any.whl (290 kB)\n",
      "\u001b[K     |████████████████████████████████| 290 kB 23.2 MB/s eta 0:00:01\n",
      "\u001b[?25hRequirement already satisfied: pandas in /opt/conda/lib/python3.8/site-packages (from datasets==1.15.1) (1.3.4)\n",
      "Requirement already satisfied: tqdm>=4.62.1 in /opt/conda/lib/python3.8/site-packages (from datasets==1.15.1) (4.62.3)\n",
      "Collecting pyarrow!=4.0.0,>=1.0.0\n",
      "  Downloading pyarrow-8.0.0-cp38-cp38-manylinux_2_17_x86_64.manylinux2014_x86_64.whl (29.4 MB)\n",
      "\u001b[K     |████████████████████████████████| 29.4 MB 19.5 MB/s eta 0:00:01\n",
      "\u001b[?25hRequirement already satisfied: huggingface-hub<1.0.0,>=0.1.0 in /opt/conda/lib/python3.8/site-packages (from datasets==1.15.1) (0.8.1)\n",
      "Collecting xxhash\n",
      "  Downloading xxhash-3.0.0-cp38-cp38-manylinux_2_17_x86_64.manylinux2014_x86_64.whl (212 kB)\n",
      "\u001b[K     |████████████████████████████████| 212 kB 26.8 MB/s eta 0:00:01\n",
      "\u001b[?25hCollecting fsspec[http]>=2021.05.0\n",
      "  Downloading fsspec-2022.5.0-py3-none-any.whl (140 kB)\n",
      "\u001b[K     |████████████████████████████████| 140 kB 39.0 MB/s eta 0:00:01\n",
      "\u001b[?25hCollecting multiprocess\n",
      "  Downloading multiprocess-0.70.13-py38-none-any.whl (131 kB)\n",
      "\u001b[K     |████████████████████████████████| 131 kB 28.4 MB/s eta 0:00:01\n",
      "\u001b[?25hRequirement already satisfied: numpy>=1.17 in /opt/conda/lib/python3.8/site-packages (from datasets==1.15.1) (1.21.2)\n",
      "Collecting aiohttp\n",
      "  Downloading aiohttp-3.8.1-cp38-cp38-manylinux_2_5_x86_64.manylinux1_x86_64.manylinux_2_12_x86_64.manylinux2010_x86_64.whl (1.3 MB)\n",
      "\u001b[K     |████████████████████████████████| 1.3 MB 29.4 MB/s eta 0:00:01\n",
      "\u001b[?25hRequirement already satisfied: packaging in /opt/conda/lib/python3.8/site-packages (from datasets==1.15.1) (21.0)\n",
      "Requirement already satisfied: requests>=2.19.0 in /opt/conda/lib/python3.8/site-packages (from datasets==1.15.1) (2.26.0)\n",
      "Collecting dill\n",
      "  Downloading dill-0.3.5.1-py2.py3-none-any.whl (95 kB)\n",
      "\u001b[K     |████████████████████████████████| 95 kB 30.5 MB/s eta 0:00:01\n",
      "\u001b[?25hRequirement already satisfied: typing-extensions>=3.7.4.3 in /opt/conda/lib/python3.8/site-packages (from huggingface-hub<1.0.0,>=0.1.0->datasets==1.15.1) (3.10.0.2)\n",
      "Requirement already satisfied: filelock in /opt/conda/lib/python3.8/site-packages (from huggingface-hub<1.0.0,>=0.1.0->datasets==1.15.1) (3.3.0)\n",
      "Requirement already satisfied: pyyaml>=5.1 in /opt/conda/lib/python3.8/site-packages (from huggingface-hub<1.0.0,>=0.1.0->datasets==1.15.1) (5.4.1)\n",
      "Requirement already satisfied: pyparsing>=2.0.2 in /opt/conda/lib/python3.8/site-packages (from packaging->datasets==1.15.1) (2.4.7)\n",
      "Requirement already satisfied: idna<4,>=2.5 in /opt/conda/lib/python3.8/site-packages (from requests>=2.19.0->datasets==1.15.1) (3.1)\n",
      "Requirement already satisfied: charset-normalizer~=2.0.0 in /opt/conda/lib/python3.8/site-packages (from requests>=2.19.0->datasets==1.15.1) (2.0.0)\n",
      "Requirement already satisfied: urllib3<1.27,>=1.21.1 in /opt/conda/lib/python3.8/site-packages (from requests>=2.19.0->datasets==1.15.1) (1.26.7)\n",
      "Requirement already satisfied: certifi>=2017.4.17 in /opt/conda/lib/python3.8/site-packages (from requests>=2.19.0->datasets==1.15.1) (2021.5.30)\n",
      "Requirement already satisfied: attrs>=17.3.0 in /opt/conda/lib/python3.8/site-packages (from aiohttp->datasets==1.15.1) (21.2.0)\n",
      "Collecting multidict<7.0,>=4.5\n",
      "  Downloading multidict-6.0.2-cp38-cp38-manylinux_2_17_x86_64.manylinux2014_x86_64.whl (121 kB)\n",
      "\u001b[K     |████████████████████████████████| 121 kB 40.2 MB/s eta 0:00:01\n",
      "\u001b[?25hCollecting frozenlist>=1.1.1\n",
      "  Downloading frozenlist-1.3.0-cp38-cp38-manylinux_2_5_x86_64.manylinux1_x86_64.manylinux_2_17_x86_64.manylinux2014_x86_64.whl (158 kB)\n",
      "\u001b[K     |████████████████████████████████| 158 kB 39.1 MB/s eta 0:00:01\n",
      "\u001b[?25hCollecting yarl<2.0,>=1.0\n",
      "  Downloading yarl-1.7.2-cp38-cp38-manylinux_2_5_x86_64.manylinux1_x86_64.manylinux_2_12_x86_64.manylinux2010_x86_64.whl (308 kB)\n",
      "\u001b[K     |████████████████████████████████| 308 kB 32.1 MB/s eta 0:00:01\n",
      "\u001b[?25hCollecting async-timeout<5.0,>=4.0.0a3\n",
      "  Downloading async_timeout-4.0.2-py3-none-any.whl (5.8 kB)\n",
      "Collecting aiosignal>=1.1.2\n",
      "  Downloading aiosignal-1.2.0-py3-none-any.whl (8.2 kB)\n",
      "Requirement already satisfied: python-dateutil>=2.7.3 in /opt/conda/lib/python3.8/site-packages (from pandas->datasets==1.15.1) (2.8.2)\n",
      "Requirement already satisfied: pytz>=2017.3 in /opt/conda/lib/python3.8/site-packages (from pandas->datasets==1.15.1) (2021.3)\n",
      "Requirement already satisfied: six>=1.5 in /opt/conda/lib/python3.8/site-packages (from python-dateutil>=2.7.3->pandas->datasets==1.15.1) (1.16.0)\n",
      "Installing collected packages: multidict, frozenlist, yarl, async-timeout, aiosignal, fsspec, dill, aiohttp, xxhash, pyarrow, multiprocess, datasets\n",
      "Successfully installed aiohttp-3.8.1 aiosignal-1.2.0 async-timeout-4.0.2 datasets-1.15.1 dill-0.3.5.1 frozenlist-1.3.0 fsspec-2022.5.0 multidict-6.0.2 multiprocess-0.70.13 pyarrow-8.0.0 xxhash-3.0.0 yarl-1.7.2\n",
      "\u001b[33mWARNING: Running pip as the 'root' user can result in broken permissions and conflicting behaviour with the system package manager. It is recommended to use a virtual environment instead: https://pip.pypa.io/warnings/venv\u001b[0m\n",
      "Looking in indexes: https://pypi.org/simple, https://pypi.ngc.nvidia.com\n",
      "Collecting ipywidgets\n",
      "  Downloading ipywidgets-7.7.1-py2.py3-none-any.whl (123 kB)\n",
      "\u001b[K     |████████████████████████████████| 123 kB 22.7 MB/s eta 0:00:01\n",
      "\u001b[?25hCollecting widgetsnbextension~=3.6.0\n",
      "  Downloading widgetsnbextension-3.6.1-py2.py3-none-any.whl (1.6 MB)\n",
      "\u001b[K     |████████████████████████████████| 1.6 MB 27.5 MB/s eta 0:00:01\n",
      "\u001b[?25hRequirement already satisfied: ipython>=4.0.0 in /opt/conda/lib/python3.8/site-packages (from ipywidgets) (7.28.0)\n",
      "Requirement already satisfied: ipython-genutils~=0.2.0 in /opt/conda/lib/python3.8/site-packages (from ipywidgets) (0.2.0)\n",
      "Requirement already satisfied: traitlets>=4.3.1 in /opt/conda/lib/python3.8/site-packages (from ipywidgets) (5.1.0)\n",
      "Requirement already satisfied: ipykernel>=4.5.1 in /opt/conda/lib/python3.8/site-packages (from ipywidgets) (6.4.1)\n",
      "Collecting jupyterlab-widgets>=1.0.0\n",
      "  Downloading jupyterlab_widgets-1.1.1-py3-none-any.whl (245 kB)\n",
      "\u001b[K     |████████████████████████████████| 245 kB 26.7 MB/s eta 0:00:01\n",
      "\u001b[?25hRequirement already satisfied: jupyter-client<8.0 in /opt/conda/lib/python3.8/site-packages (from ipykernel>=4.5.1->ipywidgets) (7.0.6)\n",
      "Requirement already satisfied: tornado<7.0,>=4.2 in /opt/conda/lib/python3.8/site-packages (from ipykernel>=4.5.1->ipywidgets) (6.1)\n",
      "Requirement already satisfied: matplotlib-inline<0.2.0,>=0.1.0 in /opt/conda/lib/python3.8/site-packages (from ipykernel>=4.5.1->ipywidgets) (0.1.3)\n",
      "Requirement already satisfied: debugpy<2.0,>=1.0.0 in /opt/conda/lib/python3.8/site-packages (from ipykernel>=4.5.1->ipywidgets) (1.5.0)\n",
      "Requirement already satisfied: pygments in /opt/conda/lib/python3.8/site-packages (from ipython>=4.0.0->ipywidgets) (2.10.0)\n",
      "Requirement already satisfied: pickleshare in /opt/conda/lib/python3.8/site-packages (from ipython>=4.0.0->ipywidgets) (0.7.5)\n",
      "Requirement already satisfied: jedi>=0.16 in /opt/conda/lib/python3.8/site-packages (from ipython>=4.0.0->ipywidgets) (0.18.0)\n",
      "Requirement already satisfied: setuptools>=18.5 in /opt/conda/lib/python3.8/site-packages (from ipython>=4.0.0->ipywidgets) (58.2.0)\n",
      "Requirement already satisfied: backcall in /opt/conda/lib/python3.8/site-packages (from ipython>=4.0.0->ipywidgets) (0.2.0)\n",
      "Requirement already satisfied: pexpect>4.3 in /opt/conda/lib/python3.8/site-packages (from ipython>=4.0.0->ipywidgets) (4.8.0)\n",
      "Requirement already satisfied: decorator in /opt/conda/lib/python3.8/site-packages (from ipython>=4.0.0->ipywidgets) (5.1.0)\n",
      "Requirement already satisfied: prompt-toolkit!=3.0.0,!=3.0.1,<3.1.0,>=2.0.0 in /opt/conda/lib/python3.8/site-packages (from ipython>=4.0.0->ipywidgets) (3.0.20)\n",
      "Requirement already satisfied: parso<0.9.0,>=0.8.0 in /opt/conda/lib/python3.8/site-packages (from jedi>=0.16->ipython>=4.0.0->ipywidgets) (0.8.2)\n",
      "Requirement already satisfied: pyzmq>=13 in /opt/conda/lib/python3.8/site-packages (from jupyter-client<8.0->ipykernel>=4.5.1->ipywidgets) (22.3.0)\n",
      "Requirement already satisfied: python-dateutil>=2.1 in /opt/conda/lib/python3.8/site-packages (from jupyter-client<8.0->ipykernel>=4.5.1->ipywidgets) (2.8.2)\n",
      "Requirement already satisfied: entrypoints in /opt/conda/lib/python3.8/site-packages (from jupyter-client<8.0->ipykernel>=4.5.1->ipywidgets) (0.3)\n",
      "Requirement already satisfied: nest-asyncio>=1.5 in /opt/conda/lib/python3.8/site-packages (from jupyter-client<8.0->ipykernel>=4.5.1->ipywidgets) (1.5.1)\n",
      "Requirement already satisfied: jupyter-core>=4.6.0 in /opt/conda/lib/python3.8/site-packages (from jupyter-client<8.0->ipykernel>=4.5.1->ipywidgets) (4.8.1)\n",
      "Requirement already satisfied: ptyprocess>=0.5 in /opt/conda/lib/python3.8/site-packages (from pexpect>4.3->ipython>=4.0.0->ipywidgets) (0.7.0)\n",
      "Requirement already satisfied: wcwidth in /opt/conda/lib/python3.8/site-packages (from prompt-toolkit!=3.0.0,!=3.0.1,<3.1.0,>=2.0.0->ipython>=4.0.0->ipywidgets) (0.2.5)\n",
      "Requirement already satisfied: six>=1.5 in /opt/conda/lib/python3.8/site-packages (from python-dateutil>=2.1->jupyter-client<8.0->ipykernel>=4.5.1->ipywidgets) (1.16.0)\n",
      "Requirement already satisfied: notebook>=4.4.1 in /opt/conda/lib/python3.8/site-packages (from widgetsnbextension~=3.6.0->ipywidgets) (6.4.1)\n",
      "Requirement already satisfied: nbconvert in /opt/conda/lib/python3.8/site-packages (from notebook>=4.4.1->widgetsnbextension~=3.6.0->ipywidgets) (6.2.0)\n",
      "Requirement already satisfied: nbformat in /opt/conda/lib/python3.8/site-packages (from notebook>=4.4.1->widgetsnbextension~=3.6.0->ipywidgets) (5.1.3)\n",
      "Requirement already satisfied: argon2-cffi in /opt/conda/lib/python3.8/site-packages (from notebook>=4.4.1->widgetsnbextension~=3.6.0->ipywidgets) (21.1.0)\n",
      "Requirement already satisfied: terminado>=0.8.3 in /opt/conda/lib/python3.8/site-packages (from notebook>=4.4.1->widgetsnbextension~=3.6.0->ipywidgets) (0.12.1)\n",
      "Requirement already satisfied: prometheus-client in /opt/conda/lib/python3.8/site-packages (from notebook>=4.4.1->widgetsnbextension~=3.6.0->ipywidgets) (0.11.0)\n",
      "Requirement already satisfied: Send2Trash>=1.5.0 in /opt/conda/lib/python3.8/site-packages (from notebook>=4.4.1->widgetsnbextension~=3.6.0->ipywidgets) (1.8.0)\n",
      "Requirement already satisfied: jinja2 in /opt/conda/lib/python3.8/site-packages (from notebook>=4.4.1->widgetsnbextension~=3.6.0->ipywidgets) (3.0.1)\n",
      "Requirement already satisfied: cffi>=1.0.0 in /opt/conda/lib/python3.8/site-packages (from argon2-cffi->notebook>=4.4.1->widgetsnbextension~=3.6.0->ipywidgets) (1.14.6)\n",
      "Requirement already satisfied: pycparser in /opt/conda/lib/python3.8/site-packages (from cffi>=1.0.0->argon2-cffi->notebook>=4.4.1->widgetsnbextension~=3.6.0->ipywidgets) (2.20)\n",
      "Requirement already satisfied: MarkupSafe>=2.0 in /opt/conda/lib/python3.8/site-packages (from jinja2->notebook>=4.4.1->widgetsnbextension~=3.6.0->ipywidgets) (2.0.1)\n",
      "Requirement already satisfied: defusedxml in /opt/conda/lib/python3.8/site-packages (from nbconvert->notebook>=4.4.1->widgetsnbextension~=3.6.0->ipywidgets) (0.7.1)\n",
      "Requirement already satisfied: testpath in /opt/conda/lib/python3.8/site-packages (from nbconvert->notebook>=4.4.1->widgetsnbextension~=3.6.0->ipywidgets) (0.5.0)\n",
      "Requirement already satisfied: mistune<2,>=0.8.1 in /opt/conda/lib/python3.8/site-packages (from nbconvert->notebook>=4.4.1->widgetsnbextension~=3.6.0->ipywidgets) (0.8.4)\n",
      "Requirement already satisfied: pandocfilters>=1.4.1 in /opt/conda/lib/python3.8/site-packages (from nbconvert->notebook>=4.4.1->widgetsnbextension~=3.6.0->ipywidgets) (1.5.0)\n",
      "Requirement already satisfied: bleach in /opt/conda/lib/python3.8/site-packages (from nbconvert->notebook>=4.4.1->widgetsnbextension~=3.6.0->ipywidgets) (4.1.0)\n",
      "Requirement already satisfied: jupyterlab-pygments in /opt/conda/lib/python3.8/site-packages (from nbconvert->notebook>=4.4.1->widgetsnbextension~=3.6.0->ipywidgets) (0.1.2)\n",
      "Requirement already satisfied: nbclient<0.6.0,>=0.5.0 in /opt/conda/lib/python3.8/site-packages (from nbconvert->notebook>=4.4.1->widgetsnbextension~=3.6.0->ipywidgets) (0.5.4)\n",
      "Requirement already satisfied: jsonschema!=2.5.0,>=2.4 in /opt/conda/lib/python3.8/site-packages (from nbformat->notebook>=4.4.1->widgetsnbextension~=3.6.0->ipywidgets) (4.0.1)\n",
      "Requirement already satisfied: pyrsistent!=0.17.0,!=0.17.1,!=0.17.2,>=0.14.0 in /opt/conda/lib/python3.8/site-packages (from jsonschema!=2.5.0,>=2.4->nbformat->notebook>=4.4.1->widgetsnbextension~=3.6.0->ipywidgets) (0.18.0)\n",
      "Requirement already satisfied: attrs>=17.4.0 in /opt/conda/lib/python3.8/site-packages (from jsonschema!=2.5.0,>=2.4->nbformat->notebook>=4.4.1->widgetsnbextension~=3.6.0->ipywidgets) (21.2.0)\n",
      "Requirement already satisfied: webencodings in /opt/conda/lib/python3.8/site-packages (from bleach->nbconvert->notebook>=4.4.1->widgetsnbextension~=3.6.0->ipywidgets) (0.5.1)\n",
      "Requirement already satisfied: packaging in /opt/conda/lib/python3.8/site-packages (from bleach->nbconvert->notebook>=4.4.1->widgetsnbextension~=3.6.0->ipywidgets) (21.0)\n",
      "Requirement already satisfied: pyparsing>=2.0.2 in /opt/conda/lib/python3.8/site-packages (from packaging->bleach->nbconvert->notebook>=4.4.1->widgetsnbextension~=3.6.0->ipywidgets) (2.4.7)\n",
      "Installing collected packages: widgetsnbextension, jupyterlab-widgets, ipywidgets\n",
      "Successfully installed ipywidgets-7.7.1 jupyterlab-widgets-1.1.1 widgetsnbextension-3.6.1\n",
      "\u001b[33mWARNING: Running pip as the 'root' user can result in broken permissions and conflicting behaviour with the system package manager. It is recommended to use a virtual environment instead: https://pip.pypa.io/warnings/venv\u001b[0m\n"
     ]
    }
   ],
   "source": [
    "!pip install pandas==1.3.4\n",
    "!pip install transformers==4.12.5\n",
    "!pip install datasets==1.15.1\n",
    "!pip install ipywidgets"
   ]
  },
  {
   "cell_type": "code",
   "execution_count": 2,
   "id": "13a83839",
   "metadata": {},
   "outputs": [],
   "source": [
    "import os\n",
    "import pickle\n",
    "\n",
    "import pandas as pd\n",
    "\n",
    "import numpy as np\n",
    "import torch\n",
    "\n",
    "import transformers\n",
    "from transformers import BertTokenizer\n",
    "\n",
    "import datasets\n",
    "from datasets import concatenate_datasets\n",
    "from datasets import Dataset\n",
    "from datasets import ClassLabel\n",
    "from datasets import DatasetDict"
   ]
  },
  {
   "cell_type": "code",
   "execution_count": 3,
   "id": "05e1af7f",
   "metadata": {},
   "outputs": [],
   "source": [
    "DATA_FOLDER = '/notebooks/Notebooks/general_notebooks/datasets'\n",
    "DATA_FILE = '/notebooks/MTL_tasks/data/pe_dataset_for_mtl_w_combined.csv'\n",
    "# FEATURES_1_FILE = '/raid/home/jeremiec/Data/persuasive_essays/features'\n",
    "# FEATURES_2_FILE = '/raid/home/jeremiec/Data/persuasive_essays/features_2'"
   ]
  },
  {
   "cell_type": "code",
   "execution_count": 4,
   "id": "cdd9dbfb",
   "metadata": {},
   "outputs": [],
   "source": [
    "dataset_df = pd.read_csv(DATA_FILE)"
   ]
  },
  {
   "cell_type": "code",
   "execution_count": 5,
   "id": "4c14ca62",
   "metadata": {},
   "outputs": [
    {
     "data": {
      "text/html": [
       "<div>\n",
       "<style scoped>\n",
       "    .dataframe tbody tr th:only-of-type {\n",
       "        vertical-align: middle;\n",
       "    }\n",
       "\n",
       "    .dataframe tbody tr th {\n",
       "        vertical-align: top;\n",
       "    }\n",
       "\n",
       "    .dataframe thead th {\n",
       "        text-align: right;\n",
       "    }\n",
       "</style>\n",
       "<table border=\"1\" class=\"dataframe\">\n",
       "  <thead>\n",
       "    <tr style=\"text-align: right;\">\n",
       "      <th></th>\n",
       "      <th>Unnamed: 0</th>\n",
       "      <th>essay_nr</th>\n",
       "      <th>component_id</th>\n",
       "      <th>label_and_comp_idxs</th>\n",
       "      <th>text</th>\n",
       "      <th>label_x</th>\n",
       "      <th>label_ComponentType</th>\n",
       "      <th>relation_SupportAttack</th>\n",
       "      <th>label_RelationType</th>\n",
       "      <th>label_LinkedNotLinked</th>\n",
       "      <th>...</th>\n",
       "      <th>relative_position_in_para_char</th>\n",
       "      <th>is_in_intro</th>\n",
       "      <th>relative_position_in_para_token</th>\n",
       "      <th>is_in_conclusion</th>\n",
       "      <th>is_first_in_para</th>\n",
       "      <th>is_last_in_para</th>\n",
       "      <th>nr_preceeding_comps_in_para</th>\n",
       "      <th>nr_following_comps_in_para</th>\n",
       "      <th>structural_fts_as_text</th>\n",
       "      <th>structural_fts_as_text_combined</th>\n",
       "    </tr>\n",
       "  </thead>\n",
       "  <tbody>\n",
       "    <tr>\n",
       "      <th>0</th>\n",
       "      <td>0</td>\n",
       "      <td>essay001</td>\n",
       "      <td>T1</td>\n",
       "      <td>MajorClaim 503 575</td>\n",
       "      <td>we should attach more importance to cooperatio...</td>\n",
       "      <td>MajorClaim</td>\n",
       "      <td>MajorClaim</td>\n",
       "      <td>[]</td>\n",
       "      <td>NaN</td>\n",
       "      <td>Linked</td>\n",
       "      <td>...</td>\n",
       "      <td>0.8599</td>\n",
       "      <td>1</td>\n",
       "      <td>0.8795</td>\n",
       "      <td>0</td>\n",
       "      <td>1</td>\n",
       "      <td>1</td>\n",
       "      <td>0</td>\n",
       "      <td>0</td>\n",
       "      <td>Topic: Should students be taught to compete or...</td>\n",
       "      <td>Topic: Should students be taught to compete or...</td>\n",
       "    </tr>\n",
       "    <tr>\n",
       "      <th>1</th>\n",
       "      <td>1</td>\n",
       "      <td>essay001</td>\n",
       "      <td>T2</td>\n",
       "      <td>MajorClaim 2154 2231</td>\n",
       "      <td>a more cooperative attitudes towards life is m...</td>\n",
       "      <td>MajorClaim</td>\n",
       "      <td>MajorClaim</td>\n",
       "      <td>[]</td>\n",
       "      <td>NaN</td>\n",
       "      <td>Linked</td>\n",
       "      <td>...</td>\n",
       "      <td>0.6723</td>\n",
       "      <td>0</td>\n",
       "      <td>0.6571</td>\n",
       "      <td>1</td>\n",
       "      <td>1</td>\n",
       "      <td>1</td>\n",
       "      <td>0</td>\n",
       "      <td>0</td>\n",
       "      <td>Topic: Should students be taught to compete or...</td>\n",
       "      <td>Topic: Should students be taught to compete or...</td>\n",
       "    </tr>\n",
       "    <tr>\n",
       "      <th>2</th>\n",
       "      <td>2</td>\n",
       "      <td>essay001</td>\n",
       "      <td>T3</td>\n",
       "      <td>Claim 591 714</td>\n",
       "      <td>through cooperation, children can learn about ...</td>\n",
       "      <td>Claim</td>\n",
       "      <td>Claim</td>\n",
       "      <td>[]</td>\n",
       "      <td>Support</td>\n",
       "      <td>Linked</td>\n",
       "      <td>...</td>\n",
       "      <td>0.0228</td>\n",
       "      <td>0</td>\n",
       "      <td>0.0286</td>\n",
       "      <td>0</td>\n",
       "      <td>1</td>\n",
       "      <td>0</td>\n",
       "      <td>0</td>\n",
       "      <td>3</td>\n",
       "      <td>Topic: Should students be taught to compete or...</td>\n",
       "      <td>Topic: Should students be taught to compete or...</td>\n",
       "    </tr>\n",
       "    <tr>\n",
       "      <th>3</th>\n",
       "      <td>3</td>\n",
       "      <td>essay001</td>\n",
       "      <td>T4</td>\n",
       "      <td>Premise 716 851</td>\n",
       "      <td>What we acquired from team work is not only ho...</td>\n",
       "      <td>Premise</td>\n",
       "      <td>Premise</td>\n",
       "      <td>[]</td>\n",
       "      <td>Support</td>\n",
       "      <td>NotLinked</td>\n",
       "      <td>...</td>\n",
       "      <td>0.2260</td>\n",
       "      <td>0</td>\n",
       "      <td>0.2000</td>\n",
       "      <td>0</td>\n",
       "      <td>0</td>\n",
       "      <td>0</td>\n",
       "      <td>1</td>\n",
       "      <td>2</td>\n",
       "      <td>Topic: Should students be taught to compete or...</td>\n",
       "      <td>Topic: Should students be taught to compete or...</td>\n",
       "    </tr>\n",
       "    <tr>\n",
       "      <th>4</th>\n",
       "      <td>4</td>\n",
       "      <td>essay001</td>\n",
       "      <td>T5</td>\n",
       "      <td>Premise 853 1086</td>\n",
       "      <td>During the process of cooperation, children ca...</td>\n",
       "      <td>Premise</td>\n",
       "      <td>Premise</td>\n",
       "      <td>[]</td>\n",
       "      <td>Support</td>\n",
       "      <td>NotLinked</td>\n",
       "      <td>...</td>\n",
       "      <td>0.4488</td>\n",
       "      <td>0</td>\n",
       "      <td>0.4476</td>\n",
       "      <td>0</td>\n",
       "      <td>0</td>\n",
       "      <td>0</td>\n",
       "      <td>2</td>\n",
       "      <td>1</td>\n",
       "      <td>Topic: Should students be taught to compete or...</td>\n",
       "      <td>Topic: Should students be taught to compete or...</td>\n",
       "    </tr>\n",
       "    <tr>\n",
       "      <th>...</th>\n",
       "      <td>...</td>\n",
       "      <td>...</td>\n",
       "      <td>...</td>\n",
       "      <td>...</td>\n",
       "      <td>...</td>\n",
       "      <td>...</td>\n",
       "      <td>...</td>\n",
       "      <td>...</td>\n",
       "      <td>...</td>\n",
       "      <td>...</td>\n",
       "      <td>...</td>\n",
       "      <td>...</td>\n",
       "      <td>...</td>\n",
       "      <td>...</td>\n",
       "      <td>...</td>\n",
       "      <td>...</td>\n",
       "      <td>...</td>\n",
       "      <td>...</td>\n",
       "      <td>...</td>\n",
       "      <td>...</td>\n",
       "      <td>...</td>\n",
       "    </tr>\n",
       "    <tr>\n",
       "      <th>5968</th>\n",
       "      <td>5968</td>\n",
       "      <td>essay402</td>\n",
       "      <td>T11</td>\n",
       "      <td>Premise 1275 1339</td>\n",
       "      <td>indirectly they will learn how to socialize ea...</td>\n",
       "      <td>Premise</td>\n",
       "      <td>Premise</td>\n",
       "      <td>[]</td>\n",
       "      <td>Support</td>\n",
       "      <td>NotLinked</td>\n",
       "      <td>...</td>\n",
       "      <td>0.5994</td>\n",
       "      <td>0</td>\n",
       "      <td>0.6100</td>\n",
       "      <td>0</td>\n",
       "      <td>0</td>\n",
       "      <td>0</td>\n",
       "      <td>4</td>\n",
       "      <td>3</td>\n",
       "      <td>Topic: Children should studying hard or playin...</td>\n",
       "      <td>Topic: Children should studying hard or playin...</td>\n",
       "    </tr>\n",
       "    <tr>\n",
       "      <th>5969</th>\n",
       "      <td>5969</td>\n",
       "      <td>essay402</td>\n",
       "      <td>T12</td>\n",
       "      <td>Premise 1341 1388</td>\n",
       "      <td>That will make children getting lots of friends</td>\n",
       "      <td>Premise</td>\n",
       "      <td>Premise</td>\n",
       "      <td>[]</td>\n",
       "      <td>Support</td>\n",
       "      <td>NotLinked</td>\n",
       "      <td>...</td>\n",
       "      <td>0.7043</td>\n",
       "      <td>0</td>\n",
       "      <td>0.7300</td>\n",
       "      <td>0</td>\n",
       "      <td>0</td>\n",
       "      <td>0</td>\n",
       "      <td>5</td>\n",
       "      <td>2</td>\n",
       "      <td>Topic: Children should studying hard or playin...</td>\n",
       "      <td>Topic: Children should studying hard or playin...</td>\n",
       "    </tr>\n",
       "    <tr>\n",
       "      <th>5970</th>\n",
       "      <td>5970</td>\n",
       "      <td>essay402</td>\n",
       "      <td>T13</td>\n",
       "      <td>Premise 1393 1436</td>\n",
       "      <td>they can contribute positively to community</td>\n",
       "      <td>Premise</td>\n",
       "      <td>Premise</td>\n",
       "      <td>[]</td>\n",
       "      <td>Support</td>\n",
       "      <td>Linked</td>\n",
       "      <td>...</td>\n",
       "      <td>0.7870</td>\n",
       "      <td>0</td>\n",
       "      <td>0.8200</td>\n",
       "      <td>0</td>\n",
       "      <td>0</td>\n",
       "      <td>0</td>\n",
       "      <td>6</td>\n",
       "      <td>1</td>\n",
       "      <td>Topic: Children should studying hard or playin...</td>\n",
       "      <td>Topic: Children should studying hard or playin...</td>\n",
       "    </tr>\n",
       "    <tr>\n",
       "      <th>5971</th>\n",
       "      <td>5971</td>\n",
       "      <td>essay402</td>\n",
       "      <td>T14</td>\n",
       "      <td>Premise 1448 1525</td>\n",
       "      <td>playing sport makes children getting healthy a...</td>\n",
       "      <td>Premise</td>\n",
       "      <td>Premise</td>\n",
       "      <td>[]</td>\n",
       "      <td>Support</td>\n",
       "      <td>NotLinked</td>\n",
       "      <td>...</td>\n",
       "      <td>0.8744</td>\n",
       "      <td>0</td>\n",
       "      <td>0.8900</td>\n",
       "      <td>0</td>\n",
       "      <td>0</td>\n",
       "      <td>1</td>\n",
       "      <td>7</td>\n",
       "      <td>0</td>\n",
       "      <td>Topic: Children should studying hard or playin...</td>\n",
       "      <td>Topic: Children should studying hard or playin...</td>\n",
       "    </tr>\n",
       "    <tr>\n",
       "      <th>5972</th>\n",
       "      <td>5972</td>\n",
       "      <td>essay402</td>\n",
       "      <td>T15</td>\n",
       "      <td>Claim 916 965</td>\n",
       "      <td>playing sports will give good effects on children</td>\n",
       "      <td>Claim</td>\n",
       "      <td>Claim</td>\n",
       "      <td>[]</td>\n",
       "      <td>Support</td>\n",
       "      <td>Linked</td>\n",
       "      <td>...</td>\n",
       "      <td>0.0286</td>\n",
       "      <td>0</td>\n",
       "      <td>0.0400</td>\n",
       "      <td>0</td>\n",
       "      <td>1</td>\n",
       "      <td>0</td>\n",
       "      <td>0</td>\n",
       "      <td>7</td>\n",
       "      <td>Topic: Children should studying hard or playin...</td>\n",
       "      <td>Topic: Children should studying hard or playin...</td>\n",
       "    </tr>\n",
       "  </tbody>\n",
       "</table>\n",
       "<p>5973 rows × 35 columns</p>\n",
       "</div>"
      ],
      "text/plain": [
       "      Unnamed: 0  essay_nr component_id   label_and_comp_idxs  \\\n",
       "0              0  essay001           T1    MajorClaim 503 575   \n",
       "1              1  essay001           T2  MajorClaim 2154 2231   \n",
       "2              2  essay001           T3         Claim 591 714   \n",
       "3              3  essay001           T4       Premise 716 851   \n",
       "4              4  essay001           T5      Premise 853 1086   \n",
       "...          ...       ...          ...                   ...   \n",
       "5968        5968  essay402          T11     Premise 1275 1339   \n",
       "5969        5969  essay402          T12     Premise 1341 1388   \n",
       "5970        5970  essay402          T13     Premise 1393 1436   \n",
       "5971        5971  essay402          T14     Premise 1448 1525   \n",
       "5972        5972  essay402          T15         Claim 916 965   \n",
       "\n",
       "                                                   text     label_x  \\\n",
       "0     we should attach more importance to cooperatio...  MajorClaim   \n",
       "1     a more cooperative attitudes towards life is m...  MajorClaim   \n",
       "2     through cooperation, children can learn about ...       Claim   \n",
       "3     What we acquired from team work is not only ho...     Premise   \n",
       "4     During the process of cooperation, children ca...     Premise   \n",
       "...                                                 ...         ...   \n",
       "5968  indirectly they will learn how to socialize ea...     Premise   \n",
       "5969    That will make children getting lots of friends     Premise   \n",
       "5970        they can contribute positively to community     Premise   \n",
       "5971  playing sport makes children getting healthy a...     Premise   \n",
       "5972  playing sports will give good effects on children       Claim   \n",
       "\n",
       "     label_ComponentType relation_SupportAttack label_RelationType  \\\n",
       "0             MajorClaim                     []                NaN   \n",
       "1             MajorClaim                     []                NaN   \n",
       "2                  Claim                     []            Support   \n",
       "3                Premise                     []            Support   \n",
       "4                Premise                     []            Support   \n",
       "...                  ...                    ...                ...   \n",
       "5968             Premise                     []            Support   \n",
       "5969             Premise                     []            Support   \n",
       "5970             Premise                     []            Support   \n",
       "5971             Premise                     []            Support   \n",
       "5972               Claim                     []            Support   \n",
       "\n",
       "     label_LinkedNotLinked  ... relative_position_in_para_char is_in_intro  \\\n",
       "0                   Linked  ...                         0.8599           1   \n",
       "1                   Linked  ...                         0.6723           0   \n",
       "2                   Linked  ...                         0.0228           0   \n",
       "3                NotLinked  ...                         0.2260           0   \n",
       "4                NotLinked  ...                         0.4488           0   \n",
       "...                    ...  ...                            ...         ...   \n",
       "5968             NotLinked  ...                         0.5994           0   \n",
       "5969             NotLinked  ...                         0.7043           0   \n",
       "5970                Linked  ...                         0.7870           0   \n",
       "5971             NotLinked  ...                         0.8744           0   \n",
       "5972                Linked  ...                         0.0286           0   \n",
       "\n",
       "      relative_position_in_para_token  is_in_conclusion  is_first_in_para  \\\n",
       "0                              0.8795                 0                 1   \n",
       "1                              0.6571                 1                 1   \n",
       "2                              0.0286                 0                 1   \n",
       "3                              0.2000                 0                 0   \n",
       "4                              0.4476                 0                 0   \n",
       "...                               ...               ...               ...   \n",
       "5968                           0.6100                 0                 0   \n",
       "5969                           0.7300                 0                 0   \n",
       "5970                           0.8200                 0                 0   \n",
       "5971                           0.8900                 0                 0   \n",
       "5972                           0.0400                 0                 1   \n",
       "\n",
       "     is_last_in_para nr_preceeding_comps_in_para  nr_following_comps_in_para  \\\n",
       "0                  1                           0                           0   \n",
       "1                  1                           0                           0   \n",
       "2                  0                           0                           3   \n",
       "3                  0                           1                           2   \n",
       "4                  0                           2                           1   \n",
       "...              ...                         ...                         ...   \n",
       "5968               0                           4                           3   \n",
       "5969               0                           5                           2   \n",
       "5970               0                           6                           1   \n",
       "5971               1                           7                           0   \n",
       "5972               0                           0                           7   \n",
       "\n",
       "                                 structural_fts_as_text  \\\n",
       "0     Topic: Should students be taught to compete or...   \n",
       "1     Topic: Should students be taught to compete or...   \n",
       "2     Topic: Should students be taught to compete or...   \n",
       "3     Topic: Should students be taught to compete or...   \n",
       "4     Topic: Should students be taught to compete or...   \n",
       "...                                                 ...   \n",
       "5968  Topic: Children should studying hard or playin...   \n",
       "5969  Topic: Children should studying hard or playin...   \n",
       "5970  Topic: Children should studying hard or playin...   \n",
       "5971  Topic: Children should studying hard or playin...   \n",
       "5972  Topic: Children should studying hard or playin...   \n",
       "\n",
       "                        structural_fts_as_text_combined  \n",
       "0     Topic: Should students be taught to compete or...  \n",
       "1     Topic: Should students be taught to compete or...  \n",
       "2     Topic: Should students be taught to compete or...  \n",
       "3     Topic: Should students be taught to compete or...  \n",
       "4     Topic: Should students be taught to compete or...  \n",
       "...                                                 ...  \n",
       "5968  Topic: Children should studying hard or playin...  \n",
       "5969  Topic: Children should studying hard or playin...  \n",
       "5970  Topic: Children should studying hard or playin...  \n",
       "5971  Topic: Children should studying hard or playin...  \n",
       "5972  Topic: Children should studying hard or playin...  \n",
       "\n",
       "[5973 rows x 35 columns]"
      ]
     },
     "execution_count": 5,
     "metadata": {},
     "output_type": "execute_result"
    }
   ],
   "source": [
    "dataset_df"
   ]
  },
  {
   "cell_type": "code",
   "execution_count": 6,
   "id": "b515b1c5",
   "metadata": {},
   "outputs": [],
   "source": [
    "dataset_df = dataset_df.drop(columns = dataset_df.columns[0])"
   ]
  },
  {
   "cell_type": "code",
   "execution_count": 7,
   "id": "fbcd8a63",
   "metadata": {},
   "outputs": [
    {
     "data": {
      "text/plain": [
       "Index(['essay_nr', 'component_id', 'label_and_comp_idxs', 'text', 'label_x',\n",
       "       'label_ComponentType', 'relation_SupportAttack', 'label_RelationType',\n",
       "       'label_LinkedNotLinked', 'split_y', 'essay', 'argument_bound_1',\n",
       "       'argument_bound_2', 'argument_id', 'sentence', 'paragraph', 'para_nr',\n",
       "       'total_paras', 'token_count', 'token_count_covering_para',\n",
       "       'tokens_count_covering_sentence', 'preceeding_tokens_in_sentence_count',\n",
       "       'succeeding_tokens_in_sentence_count', 'token_ratio',\n",
       "       'relative_position_in_para_char', 'is_in_intro',\n",
       "       'relative_position_in_para_token', 'is_in_conclusion',\n",
       "       'is_first_in_para', 'is_last_in_para', 'nr_preceeding_comps_in_para',\n",
       "       'nr_following_comps_in_para', 'structural_fts_as_text',\n",
       "       'structural_fts_as_text_combined'],\n",
       "      dtype='object')"
      ]
     },
     "execution_count": 7,
     "metadata": {},
     "output_type": "execute_result"
    }
   ],
   "source": [
    "dataset_df.columns"
   ]
  },
  {
   "cell_type": "code",
   "execution_count": 8,
   "id": "59aa1c58",
   "metadata": {},
   "outputs": [],
   "source": [
    "dataset_df = dataset_df.drop(columns=['label_x'])"
   ]
  },
  {
   "cell_type": "code",
   "execution_count": 9,
   "id": "213d42d2",
   "metadata": {
    "scrolled": true
   },
   "outputs": [
    {
     "data": {
      "text/plain": [
       "Index(['essay_nr', 'component_id', 'label_and_comp_idxs', 'text',\n",
       "       'label_ComponentType', 'relation_SupportAttack', 'label_RelationType',\n",
       "       'label_LinkedNotLinked', 'split_y', 'essay', 'argument_bound_1',\n",
       "       'argument_bound_2', 'argument_id', 'sentence', 'paragraph', 'para_nr',\n",
       "       'total_paras', 'token_count', 'token_count_covering_para',\n",
       "       'tokens_count_covering_sentence', 'preceeding_tokens_in_sentence_count',\n",
       "       'succeeding_tokens_in_sentence_count', 'token_ratio',\n",
       "       'relative_position_in_para_char', 'is_in_intro',\n",
       "       'relative_position_in_para_token', 'is_in_conclusion',\n",
       "       'is_first_in_para', 'is_last_in_para', 'nr_preceeding_comps_in_para',\n",
       "       'nr_following_comps_in_para', 'structural_fts_as_text',\n",
       "       'structural_fts_as_text_combined'],\n",
       "      dtype='object')"
      ]
     },
     "execution_count": 9,
     "metadata": {},
     "output_type": "execute_result"
    }
   ],
   "source": [
    "dataset_df.columns"
   ]
  },
  {
   "cell_type": "code",
   "execution_count": 12,
   "id": "d2c9a6f5",
   "metadata": {},
   "outputs": [
    {
     "data": {
      "text/plain": [
       "2    1939\n",
       "3    1896\n",
       "4    1224\n",
       "1     465\n",
       "5     428\n",
       "6      20\n",
       "7       1\n",
       "Name: para_nr, dtype: int64"
      ]
     },
     "execution_count": 12,
     "metadata": {},
     "output_type": "execute_result"
    }
   ],
   "source": [
    "dataset_df['para_nr'].value_counts()"
   ]
  },
  {
   "cell_type": "code",
   "execution_count": 13,
   "id": "33f39ddb",
   "metadata": {},
   "outputs": [
    {
     "data": {
      "text/plain": [
       "'essay085'"
      ]
     },
     "execution_count": 13,
     "metadata": {},
     "output_type": "execute_result"
    }
   ],
   "source": [
    "dataset_df['essay_nr'][1200]"
   ]
  },
  {
   "cell_type": "code",
   "execution_count": 14,
   "id": "0c52f4b7",
   "metadata": {},
   "outputs": [
    {
     "data": {
      "text/plain": [
       "3"
      ]
     },
     "execution_count": 14,
     "metadata": {},
     "output_type": "execute_result"
    }
   ],
   "source": [
    "dataset_df['para_nr'][1200]"
   ]
  },
  {
   "cell_type": "code",
   "execution_count": 16,
   "id": "aaf40125",
   "metadata": {},
   "outputs": [
    {
     "data": {
      "text/plain": [
       "0.2857142857142857"
      ]
     },
     "execution_count": 16,
     "metadata": {},
     "output_type": "execute_result"
    }
   ],
   "source": [
    "2/7 "
   ]
  },
  {
   "cell_type": "markdown",
   "id": "aa5e8555",
   "metadata": {},
   "source": [
    "## encoding"
   ]
  },
  {
   "cell_type": "code",
   "execution_count": 50,
   "id": "e44957ba",
   "metadata": {},
   "outputs": [],
   "source": [
    "def get_comp_class_mc(x):\n",
    "    \n",
    "    label = x.label_ComponentType\n",
    "    \n",
    "    if label == 'MajorClaim':\n",
    "        \n",
    "        return 1\n",
    "    \n",
    "    elif label == 'Claim':\n",
    "        \n",
    "        return 0\n",
    "    \n",
    "    elif label == 'Premise':\n",
    "        \n",
    "        return 0"
   ]
  },
  {
   "cell_type": "code",
   "execution_count": 51,
   "id": "d2bea46b",
   "metadata": {},
   "outputs": [],
   "source": [
    "def get_comp_class_cl(x):\n",
    "    \n",
    "    label = x.label_ComponentType\n",
    "    \n",
    "    if label == 'Claim':\n",
    "        \n",
    "        return 1\n",
    "    \n",
    "    elif label == 'MajorClaim':\n",
    "        \n",
    "        return 0\n",
    "    \n",
    "    elif label == 'Premise':\n",
    "        \n",
    "        return 0"
   ]
  },
  {
   "cell_type": "code",
   "execution_count": 52,
   "id": "90d65535",
   "metadata": {},
   "outputs": [],
   "source": [
    "def get_comp_class_prem(x):\n",
    "    \n",
    "    label = x.label_ComponentType\n",
    "    \n",
    "    if label == 'Premise':\n",
    "        \n",
    "        return 1\n",
    "    \n",
    "    elif label == 'Claim':\n",
    "        \n",
    "        return 0\n",
    "    \n",
    "    elif label == 'MajorClaim':\n",
    "        \n",
    "        return 0"
   ]
  },
  {
   "cell_type": "code",
   "execution_count": 53,
   "id": "1a202be7",
   "metadata": {},
   "outputs": [],
   "source": [
    "def get_linked_integer(x):\n",
    "    \n",
    "    label = x.label_LinkedNotLinked\n",
    "    \n",
    "    if label == 'Linked':\n",
    "        \n",
    "        return 1\n",
    "    \n",
    "    elif label == 'NotLinked':\n",
    "        \n",
    "        return 0"
   ]
  },
  {
   "cell_type": "code",
   "execution_count": 54,
   "id": "114254f8",
   "metadata": {},
   "outputs": [],
   "source": [
    "def get_support_integer(x):\n",
    "    \n",
    "    label = x.label_RelationType\n",
    "    \n",
    "    if label == 'Support':\n",
    "        \n",
    "        return 1\n",
    "    \n",
    "    else:\n",
    "        \n",
    "        return 0"
   ]
  },
  {
   "cell_type": "code",
   "execution_count": 55,
   "id": "02bdbba4",
   "metadata": {},
   "outputs": [],
   "source": [
    "def get_attack_integer(x):\n",
    "    \n",
    "    label = x.label_RelationType\n",
    "    \n",
    "    if label == 'Attack':\n",
    "        \n",
    "        return 1\n",
    "    \n",
    "    else:\n",
    "        \n",
    "        return 0"
   ]
  },
  {
   "cell_type": "code",
   "execution_count": 56,
   "id": "dcd64bed",
   "metadata": {},
   "outputs": [],
   "source": [
    "dataset_df['mc'] = dataset_df.apply(lambda x: get_comp_class_mc(x), axis=1)"
   ]
  },
  {
   "cell_type": "code",
   "execution_count": 57,
   "id": "d7b1d4e8",
   "metadata": {},
   "outputs": [],
   "source": [
    "dataset_df['cl'] = dataset_df.apply(lambda x: get_comp_class_cl(x), axis=1)"
   ]
  },
  {
   "cell_type": "code",
   "execution_count": 58,
   "id": "d7d54bcf",
   "metadata": {},
   "outputs": [],
   "source": [
    "dataset_df['prem'] = dataset_df.apply(lambda x: get_comp_class_prem(x), axis=1)"
   ]
  },
  {
   "cell_type": "code",
   "execution_count": 59,
   "id": "19d9b1f3",
   "metadata": {},
   "outputs": [],
   "source": [
    "dataset_df['link_present'] = dataset_df.apply(lambda x: get_linked_integer(x), axis=1)"
   ]
  },
  {
   "cell_type": "code",
   "execution_count": 60,
   "id": "e862cdd7",
   "metadata": {},
   "outputs": [],
   "source": [
    "dataset_df['support'] = dataset_df.apply(lambda x: get_support_integer(x), axis=1)"
   ]
  },
  {
   "cell_type": "code",
   "execution_count": 61,
   "id": "07e2869d",
   "metadata": {},
   "outputs": [],
   "source": [
    "dataset_df['attack'] = dataset_df.apply(lambda x: get_attack_integer(x), axis=1)"
   ]
  },
  {
   "cell_type": "code",
   "execution_count": 62,
   "id": "e6143b77",
   "metadata": {},
   "outputs": [
    {
     "data": {
      "text/plain": [
       "0    5239\n",
       "1     734\n",
       "Name: mc, dtype: int64"
      ]
     },
     "execution_count": 62,
     "metadata": {},
     "output_type": "execute_result"
    }
   ],
   "source": [
    "dataset_df['mc'].value_counts()"
   ]
  },
  {
   "cell_type": "code",
   "execution_count": 63,
   "id": "aa856fb7",
   "metadata": {},
   "outputs": [
    {
     "data": {
      "text/plain": [
       "0    4497\n",
       "1    1476\n",
       "Name: cl, dtype: int64"
      ]
     },
     "execution_count": 63,
     "metadata": {},
     "output_type": "execute_result"
    }
   ],
   "source": [
    "dataset_df['cl'].value_counts()"
   ]
  },
  {
   "cell_type": "code",
   "execution_count": 64,
   "id": "f999b784",
   "metadata": {},
   "outputs": [
    {
     "data": {
      "text/plain": [
       "1    3763\n",
       "0    2210\n",
       "Name: prem, dtype: int64"
      ]
     },
     "execution_count": 64,
     "metadata": {},
     "output_type": "execute_result"
    }
   ],
   "source": [
    "dataset_df['prem'].value_counts()"
   ]
  },
  {
   "cell_type": "code",
   "execution_count": 65,
   "id": "ecd862b8",
   "metadata": {},
   "outputs": [
    {
     "data": {
      "text/plain": [
       "0    3566\n",
       "1    2407\n",
       "Name: link_present, dtype: int64"
      ]
     },
     "execution_count": 65,
     "metadata": {},
     "output_type": "execute_result"
    }
   ],
   "source": [
    "dataset_df['link_present'].value_counts()"
   ]
  },
  {
   "cell_type": "code",
   "execution_count": 66,
   "id": "e737b1f5",
   "metadata": {},
   "outputs": [
    {
     "data": {
      "text/plain": [
       "1    4751\n",
       "0    1222\n",
       "Name: support, dtype: int64"
      ]
     },
     "execution_count": 66,
     "metadata": {},
     "output_type": "execute_result"
    }
   ],
   "source": [
    "dataset_df['support'].value_counts()"
   ]
  },
  {
   "cell_type": "code",
   "execution_count": 67,
   "id": "2dfacba7",
   "metadata": {},
   "outputs": [
    {
     "data": {
      "text/plain": [
       "0    5485\n",
       "1     488\n",
       "Name: attack, dtype: int64"
      ]
     },
     "execution_count": 67,
     "metadata": {},
     "output_type": "execute_result"
    }
   ],
   "source": [
    "dataset_df['attack'].value_counts()"
   ]
  },
  {
   "cell_type": "code",
   "execution_count": null,
   "id": "757ceda2",
   "metadata": {},
   "outputs": [],
   "source": []
  },
  {
   "cell_type": "code",
   "execution_count": 68,
   "id": "34f4375d",
   "metadata": {},
   "outputs": [],
   "source": [
    "train_df = dataset_df[dataset_df.split_y=='TRAIN'].reset_index(drop=True)\n",
    "test_df = dataset_df[dataset_df.split_y=='TEST'].reset_index(drop=True)\n",
    "\n",
    "# val_df = dataset_df[dataset_df.split=='VALIDATION'].reset_index(drop=True)\n",
    "# train_dataset = train_val_datasets['train']\n",
    "# val_dataset = train_val_datasets['test']"
   ]
  },
  {
   "cell_type": "code",
   "execution_count": 69,
   "id": "2d478a66",
   "metadata": {},
   "outputs": [
    {
     "data": {
      "text/plain": [
       "(4713, 1260)"
      ]
     },
     "execution_count": 69,
     "metadata": {},
     "output_type": "execute_result"
    }
   ],
   "source": [
    "len(train_df), len(test_df)"
   ]
  },
  {
   "cell_type": "code",
   "execution_count": 70,
   "id": "0754fe85",
   "metadata": {},
   "outputs": [],
   "source": [
    "dataset_train = Dataset.from_pandas(train_df)\n",
    "dataset_test = Dataset.from_pandas(test_df)"
   ]
  },
  {
   "cell_type": "code",
   "execution_count": 71,
   "id": "9e262e27",
   "metadata": {},
   "outputs": [
    {
     "data": {
      "text/plain": [
       "'Topic: Should students be taught to compete or to cooperate?, Sentence: From this point of view, I firmly believe that we should attach more importance to cooperation during primary education., Para Number: 1, First in Para: Yes, Last in Para: Yes, Is in Introduction: Yes, Is in Conclusion: No'"
      ]
     },
     "execution_count": 71,
     "metadata": {},
     "output_type": "execute_result"
    }
   ],
   "source": [
    "dataset_train['structural_fts_as_text'][0]"
   ]
  },
  {
   "cell_type": "code",
   "execution_count": 72,
   "id": "1ebabaf9",
   "metadata": {},
   "outputs": [
    {
     "data": {
      "text/plain": [
       "Dataset({\n",
       "    features: ['essay_nr', 'component_id', 'label_and_comp_idxs', 'text', 'label_ComponentType', 'relation_SupportAttack', 'label_RelationType', 'label_LinkedNotLinked', 'split_y', 'essay', 'argument_bound_1', 'argument_bound_2', 'argument_id', 'sentence', 'paragraph', 'para_nr', 'total_paras', 'token_count', 'token_count_covering_para', 'tokens_count_covering_sentence', 'preceeding_tokens_in_sentence_count', 'succeeding_tokens_in_sentence_count', 'token_ratio', 'relative_position_in_para_char', 'is_in_intro', 'relative_position_in_para_token', 'is_in_conclusion', 'is_first_in_para', 'is_last_in_para', 'nr_preceeding_comps_in_para', 'nr_following_comps_in_para', 'structural_fts_as_text', 'structural_fts_as_text_combined', 'mc', 'cl', 'prem', 'link_present', 'support', 'attack'],\n",
       "    num_rows: 1260\n",
       "})"
      ]
     },
     "execution_count": 72,
     "metadata": {},
     "output_type": "execute_result"
    }
   ],
   "source": [
    "dataset_test"
   ]
  },
  {
   "cell_type": "code",
   "execution_count": 73,
   "id": "408be094",
   "metadata": {},
   "outputs": [],
   "source": [
    "dataset = DatasetDict({\"train\": dataset_train, \"test\": dataset_test})"
   ]
  },
  {
   "cell_type": "code",
   "execution_count": 74,
   "id": "02647b4d",
   "metadata": {},
   "outputs": [
    {
     "data": {
      "text/plain": [
       "DatasetDict({\n",
       "    train: Dataset({\n",
       "        features: ['essay_nr', 'component_id', 'label_and_comp_idxs', 'text', 'label_ComponentType', 'relation_SupportAttack', 'label_RelationType', 'label_LinkedNotLinked', 'split_y', 'essay', 'argument_bound_1', 'argument_bound_2', 'argument_id', 'sentence', 'paragraph', 'para_nr', 'total_paras', 'token_count', 'token_count_covering_para', 'tokens_count_covering_sentence', 'preceeding_tokens_in_sentence_count', 'succeeding_tokens_in_sentence_count', 'token_ratio', 'relative_position_in_para_char', 'is_in_intro', 'relative_position_in_para_token', 'is_in_conclusion', 'is_first_in_para', 'is_last_in_para', 'nr_preceeding_comps_in_para', 'nr_following_comps_in_para', 'structural_fts_as_text', 'structural_fts_as_text_combined', 'mc', 'cl', 'prem', 'link_present', 'support', 'attack'],\n",
       "        num_rows: 4713\n",
       "    })\n",
       "    test: Dataset({\n",
       "        features: ['essay_nr', 'component_id', 'label_and_comp_idxs', 'text', 'label_ComponentType', 'relation_SupportAttack', 'label_RelationType', 'label_LinkedNotLinked', 'split_y', 'essay', 'argument_bound_1', 'argument_bound_2', 'argument_id', 'sentence', 'paragraph', 'para_nr', 'total_paras', 'token_count', 'token_count_covering_para', 'tokens_count_covering_sentence', 'preceeding_tokens_in_sentence_count', 'succeeding_tokens_in_sentence_count', 'token_ratio', 'relative_position_in_para_char', 'is_in_intro', 'relative_position_in_para_token', 'is_in_conclusion', 'is_first_in_para', 'is_last_in_para', 'nr_preceeding_comps_in_para', 'nr_following_comps_in_para', 'structural_fts_as_text', 'structural_fts_as_text_combined', 'mc', 'cl', 'prem', 'link_present', 'support', 'attack'],\n",
       "        num_rows: 1260\n",
       "    })\n",
       "})"
      ]
     },
     "execution_count": 74,
     "metadata": {},
     "output_type": "execute_result"
    }
   ],
   "source": [
    "dataset"
   ]
  },
  {
   "cell_type": "code",
   "execution_count": 75,
   "id": "1c0528c4",
   "metadata": {},
   "outputs": [
    {
     "data": {
      "text/plain": [
       "Dataset({\n",
       "    features: ['essay_nr', 'component_id', 'label_and_comp_idxs', 'text', 'label_ComponentType', 'relation_SupportAttack', 'label_RelationType', 'label_LinkedNotLinked', 'split_y', 'essay', 'argument_bound_1', 'argument_bound_2', 'argument_id', 'sentence', 'paragraph', 'para_nr', 'total_paras', 'token_count', 'token_count_covering_para', 'tokens_count_covering_sentence', 'preceeding_tokens_in_sentence_count', 'succeeding_tokens_in_sentence_count', 'token_ratio', 'relative_position_in_para_char', 'is_in_intro', 'relative_position_in_para_token', 'is_in_conclusion', 'is_first_in_para', 'is_last_in_para', 'nr_preceeding_comps_in_para', 'nr_following_comps_in_para', 'structural_fts_as_text', 'structural_fts_as_text_combined', 'mc', 'cl', 'prem', 'link_present', 'support', 'attack'],\n",
       "    num_rows: 1260\n",
       "})"
      ]
     },
     "execution_count": 75,
     "metadata": {},
     "output_type": "execute_result"
    }
   ],
   "source": [
    "dataset['test']"
   ]
  },
  {
   "cell_type": "code",
   "execution_count": 76,
   "id": "3929f4d5",
   "metadata": {},
   "outputs": [],
   "source": [
    "train_val_datasets = dataset['train'].train_test_split(train_size=0.8)\n",
    "dataset_train = train_val_datasets['train']\n",
    "dataset_val = train_val_datasets['test']"
   ]
  },
  {
   "cell_type": "code",
   "execution_count": 77,
   "id": "288acbc9",
   "metadata": {},
   "outputs": [
    {
     "data": {
      "text/plain": [
       "943"
      ]
     },
     "execution_count": 77,
     "metadata": {},
     "output_type": "execute_result"
    }
   ],
   "source": [
    "len(dataset_val)"
   ]
  },
  {
   "cell_type": "code",
   "execution_count": 78,
   "id": "ea2167c5",
   "metadata": {},
   "outputs": [
    {
     "data": {
      "text/plain": [
       "3770"
      ]
     },
     "execution_count": 78,
     "metadata": {},
     "output_type": "execute_result"
    }
   ],
   "source": [
    "len(dataset_train)"
   ]
  },
  {
   "cell_type": "code",
   "execution_count": 79,
   "id": "23878b56",
   "metadata": {},
   "outputs": [
    {
     "data": {
      "text/plain": [
       "1260"
      ]
     },
     "execution_count": 79,
     "metadata": {},
     "output_type": "execute_result"
    }
   ],
   "source": [
    "len(dataset_test)"
   ]
  },
  {
   "cell_type": "code",
   "execution_count": 80,
   "id": "854e4b87",
   "metadata": {},
   "outputs": [
    {
     "data": {
      "text/plain": [
       "'Topic: Gender Equality at university admission, Sentence: Therefore, universities follow the requirement of job providers and decide subject suitable for particular gender., Para Number: 3, First in Para: No, Last in Para: Yes, Is in Introduction: No, Is in Conclusion: No'"
      ]
     },
     "execution_count": 80,
     "metadata": {},
     "output_type": "execute_result"
    }
   ],
   "source": [
    "dataset_train['structural_fts_as_text'][0]"
   ]
  },
  {
   "cell_type": "code",
   "execution_count": 81,
   "id": "d7daeed3",
   "metadata": {},
   "outputs": [
    {
     "data": {
      "text/plain": [
       "'Topic: Dormitory or apartment?, Sentence: From given the evidences, it seems to me that it becomes hard for students to choose between their living options since both living accommodation have its own benefits, Para Number: 4, First in Para: Yes, Last in Para: No, Is in Introduction: No, Is in Conclusion: Yes'"
      ]
     },
     "execution_count": 81,
     "metadata": {},
     "output_type": "execute_result"
    }
   ],
   "source": [
    "dataset_val['structural_fts_as_text'][0]"
   ]
  },
  {
   "cell_type": "code",
   "execution_count": 82,
   "id": "ea8dbf85",
   "metadata": {},
   "outputs": [],
   "source": [
    "dataset_final = dataset = DatasetDict({\"train\": dataset_train, \"test\": dataset_test, \"validation\": dataset_val})"
   ]
  },
  {
   "cell_type": "code",
   "execution_count": 83,
   "id": "d49fe3d6",
   "metadata": {},
   "outputs": [
    {
     "data": {
      "text/plain": [
       "DatasetDict({\n",
       "    train: Dataset({\n",
       "        features: ['essay_nr', 'component_id', 'label_and_comp_idxs', 'text', 'label_ComponentType', 'relation_SupportAttack', 'label_RelationType', 'label_LinkedNotLinked', 'split_y', 'essay', 'argument_bound_1', 'argument_bound_2', 'argument_id', 'sentence', 'paragraph', 'para_nr', 'total_paras', 'token_count', 'token_count_covering_para', 'tokens_count_covering_sentence', 'preceeding_tokens_in_sentence_count', 'succeeding_tokens_in_sentence_count', 'token_ratio', 'relative_position_in_para_char', 'is_in_intro', 'relative_position_in_para_token', 'is_in_conclusion', 'is_first_in_para', 'is_last_in_para', 'nr_preceeding_comps_in_para', 'nr_following_comps_in_para', 'structural_fts_as_text', 'structural_fts_as_text_combined', 'mc', 'cl', 'prem', 'link_present', 'support', 'attack'],\n",
       "        num_rows: 3770\n",
       "    })\n",
       "    test: Dataset({\n",
       "        features: ['essay_nr', 'component_id', 'label_and_comp_idxs', 'text', 'label_ComponentType', 'relation_SupportAttack', 'label_RelationType', 'label_LinkedNotLinked', 'split_y', 'essay', 'argument_bound_1', 'argument_bound_2', 'argument_id', 'sentence', 'paragraph', 'para_nr', 'total_paras', 'token_count', 'token_count_covering_para', 'tokens_count_covering_sentence', 'preceeding_tokens_in_sentence_count', 'succeeding_tokens_in_sentence_count', 'token_ratio', 'relative_position_in_para_char', 'is_in_intro', 'relative_position_in_para_token', 'is_in_conclusion', 'is_first_in_para', 'is_last_in_para', 'nr_preceeding_comps_in_para', 'nr_following_comps_in_para', 'structural_fts_as_text', 'structural_fts_as_text_combined', 'mc', 'cl', 'prem', 'link_present', 'support', 'attack'],\n",
       "        num_rows: 1260\n",
       "    })\n",
       "    validation: Dataset({\n",
       "        features: ['essay_nr', 'component_id', 'label_and_comp_idxs', 'text', 'label_ComponentType', 'relation_SupportAttack', 'label_RelationType', 'label_LinkedNotLinked', 'split_y', 'essay', 'argument_bound_1', 'argument_bound_2', 'argument_id', 'sentence', 'paragraph', 'para_nr', 'total_paras', 'token_count', 'token_count_covering_para', 'tokens_count_covering_sentence', 'preceeding_tokens_in_sentence_count', 'succeeding_tokens_in_sentence_count', 'token_ratio', 'relative_position_in_para_char', 'is_in_intro', 'relative_position_in_para_token', 'is_in_conclusion', 'is_first_in_para', 'is_last_in_para', 'nr_preceeding_comps_in_para', 'nr_following_comps_in_para', 'structural_fts_as_text', 'structural_fts_as_text_combined', 'mc', 'cl', 'prem', 'link_present', 'support', 'attack'],\n",
       "        num_rows: 943\n",
       "    })\n",
       "})"
      ]
     },
     "execution_count": 83,
     "metadata": {},
     "output_type": "execute_result"
    }
   ],
   "source": [
    "dataset_final"
   ]
  },
  {
   "cell_type": "code",
   "execution_count": 84,
   "id": "6b4d7d3f",
   "metadata": {},
   "outputs": [],
   "source": [
    "torch.save(dataset_final, os.path.join(\"/notebooks/MTL_tasks/data\", 'pe_dataset_for_MLC_w_combined.pt'))"
   ]
  },
  {
   "cell_type": "code",
   "execution_count": null,
   "id": "3b234546",
   "metadata": {},
   "outputs": [],
   "source": []
  }
 ],
 "metadata": {
  "kernelspec": {
   "display_name": "Python 3 (ipykernel)",
   "language": "python",
   "name": "python3"
  },
  "language_info": {
   "codemirror_mode": {
    "name": "ipython",
    "version": 3
   },
   "file_extension": ".py",
   "mimetype": "text/x-python",
   "name": "python",
   "nbconvert_exporter": "python",
   "pygments_lexer": "ipython3",
   "version": "3.8.12"
  }
 },
 "nbformat": 4,
 "nbformat_minor": 5
}
